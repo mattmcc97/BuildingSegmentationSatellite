{
 "cells": [
  {
   "cell_type": "code",
   "execution_count": 1,
   "metadata": {},
   "outputs": [],
   "source": [
    "import pandas as pd\n",
    "import seaborn as sns\n",
    "import os\n",
    "import matplotlib.pyplot as plt"
   ]
  },
  {
   "cell_type": "code",
   "execution_count": 3,
   "metadata": {
    "scrolled": true
   },
   "outputs": [
    {
     "data": {
      "text/plain": [
       "<Figure size 720x10080 with 0 Axes>"
      ]
     },
     "metadata": {},
     "output_type": "display_data"
    }
   ],
   "source": [
    "# data = pd.read_csv(\"FCNResults.csv\") \n",
    "# data.head()\n",
    "model_parameters = \"\"\n",
    "index = 1\n",
    "plt.figure(figsize=(10, 140))\n",
    "plt.subplots_adjust(left=None, bottom=0.01, right=None, top=0.999, wspace=None, hspace=None)\n",
    "plt.tight_layout()\n",
    "topmodels = {}\n",
    "for filename in os.listdir(\"experiment_results_fcn_combined\"):    \n",
    "    plt.subplot(len(os.listdir(\"experiment_results_fcn_combined\")), 1, index)\n",
    "    data = pd.read_csv(\"experiment_results_fcn_combined/\" + filename, skiprows=[0]) \n",
    "    with open(\"experiment_results_fcn_combined/\" + filename) as f:\n",
    "        model_parameters = f.readline() \n",
    "    # print(model_parameters)\n",
    "    # display(data.head())\n",
    "    ax = sns.lineplot(x=\"epoch\", y=\"IoU\", data=data)\n",
    "    ax.set_title(model_parameters + \"  \" + str(round(data['IoU'].max(),4)))\n",
    "    index = index + 1\n",
    "    if(data['IoU'].max() > 0.7):\n",
    "        topmodels[model_parameters] = data['IoU'].max()\n",
    "plt.show()"
   ]
  },
  {
   "cell_type": "code",
   "execution_count": 4,
   "metadata": {},
   "outputs": [
    {
     "data": {
      "text/plain": [
       "<Figure size 720x36000 with 0 Axes>"
      ]
     },
     "metadata": {},
     "output_type": "display_data"
    }
   ],
   "source": [
    "# data = pd.read_csv(\"FCNResults.csv\") \n",
    "# data.head()\n",
    "model_parameters = \"\"\n",
    "index = 1\n",
    "plt.figure(figsize=(10, 500))\n",
    "plt.subplots_adjust(left=None, bottom=0.01, right=None, top=0.999, wspace=None, hspace=None)\n",
    "plt.tight_layout()\n",
    "topmodels = {}\n",
    "shitemodels = {}\n",
    "for filename in os.listdir(\"experiment_results_fcn_combined\"):    \n",
    "    \n",
    "        data = pd.read_csv(\"experiment_results_fcn_combined/\" + filename, skiprows=[0])\n",
    "        if(data['IoU'].max() > 0.7):\n",
    "            topmodels[model_parameters] = data['IoU'].max()\n",
    "        if(data['IoU'].max() < 0.64):\n",
    "            shitemodels[model_parameters] = data['IoU'].max()\n",
    "        \n",
    "        if(len(data) > 25 and data['IoU'].max() > 0.75):\n",
    "            plt.subplot(len(os.listdir(\"experiment_results_fcn_combined\")), 1, index)\n",
    "            with open(\"experiment_results_fcn_combined/\" + filename) as f:\n",
    "                model_parameters = f.readline() \n",
    "\n",
    "            ax = sns.lineplot(x=\"epoch\", y=\"loss\", data=data)\n",
    "            ax.set_title(filename + \" \" + model_parameters + \"  \" + str(round(data['IoU'].max(),4)))\n",
    "            index = index + 1\n",
    "\n",
    "plt.show()"
   ]
  },
  {
   "cell_type": "markdown",
   "metadata": {},
   "source": [
    "# Top Models"
   ]
  },
  {
   "cell_type": "code",
   "execution_count": 5,
   "metadata": {
    "scrolled": true
   },
   "outputs": [
    {
     "data": {
      "text/plain": [
       "[]"
      ]
     },
     "execution_count": 5,
     "metadata": {},
     "output_type": "execute_result"
    }
   ],
   "source": [
    "import operator\n",
    "sorted(topmodels.items(), key=operator.itemgetter(1))"
   ]
  },
  {
   "cell_type": "markdown",
   "metadata": {},
   "source": []
  },
  {
   "cell_type": "code",
   "execution_count": null,
   "metadata": {},
   "outputs": [],
   "source": []
  },
  {
   "cell_type": "code",
   "execution_count": null,
   "metadata": {},
   "outputs": [],
   "source": []
  }
 ],
 "metadata": {
  "kernelspec": {
   "display_name": "Python 3",
   "language": "python",
   "name": "python3"
  },
  "language_info": {
   "codemirror_mode": {
    "name": "ipython",
    "version": 3
   },
   "file_extension": ".py",
   "mimetype": "text/x-python",
   "name": "python",
   "nbconvert_exporter": "python",
   "pygments_lexer": "ipython3",
   "version": "3.6.6"
  }
 },
 "nbformat": 4,
 "nbformat_minor": 2
}
